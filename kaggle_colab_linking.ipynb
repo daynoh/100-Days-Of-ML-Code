{
  "nbformat": 4,
  "nbformat_minor": 0,
  "metadata": {
    "colab": {
      "name": "kaggle colab linking.ipynb",
      "provenance": [],
      "authorship_tag": "ABX9TyNIagYm2jx7znFcPKqLo/Wa",
      "include_colab_link": true
    },
    "kernelspec": {
      "name": "python3",
      "display_name": "Python 3"
    }
  },
  "cells": [
    {
      "cell_type": "markdown",
      "metadata": {
        "id": "view-in-github",
        "colab_type": "text"
      },
      "source": [
        "<a href=\"https://colab.research.google.com/github/daynoh/100-Days-Of-ML-Code/blob/master/kaggle_colab_linking.ipynb\" target=\"_parent\"><img src=\"https://colab.research.google.com/assets/colab-badge.svg\" alt=\"Open In Colab\"/></a>"
      ]
    },
    {
      "cell_type": "code",
      "metadata": {
        "id": "re-LBTkRAPso",
        "colab_type": "code",
        "colab": {
          "base_uri": "https://localhost:8080/",
          "height": 224
        },
        "outputId": "ab591fdc-9f15-4bcd-c717-d3520f19f911"
      },
      "source": [
        "!pip install kaggle\n",
        "\n"
      ],
      "execution_count": 4,
      "outputs": [
        {
          "output_type": "stream",
          "text": [
            "Requirement already satisfied: kaggle in /usr/local/lib/python3.6/dist-packages (1.5.6)\n",
            "Requirement already satisfied: six>=1.10 in /usr/local/lib/python3.6/dist-packages (from kaggle) (1.12.0)\n",
            "Requirement already satisfied: certifi in /usr/local/lib/python3.6/dist-packages (from kaggle) (2020.4.5.1)\n",
            "Requirement already satisfied: python-dateutil in /usr/local/lib/python3.6/dist-packages (from kaggle) (2.8.1)\n",
            "Requirement already satisfied: requests in /usr/local/lib/python3.6/dist-packages (from kaggle) (2.21.0)\n",
            "Requirement already satisfied: python-slugify in /usr/local/lib/python3.6/dist-packages (from kaggle) (4.0.0)\n",
            "Requirement already satisfied: urllib3<1.25,>=1.21.1 in /usr/local/lib/python3.6/dist-packages (from kaggle) (1.24.3)\n",
            "Requirement already satisfied: tqdm in /usr/local/lib/python3.6/dist-packages (from kaggle) (4.38.0)\n",
            "Requirement already satisfied: chardet<3.1.0,>=3.0.2 in /usr/local/lib/python3.6/dist-packages (from requests->kaggle) (3.0.4)\n",
            "Requirement already satisfied: idna<2.9,>=2.5 in /usr/local/lib/python3.6/dist-packages (from requests->kaggle) (2.8)\n",
            "Requirement already satisfied: text-unidecode>=1.3 in /usr/local/lib/python3.6/dist-packages (from python-slugify->kaggle) (1.3)\n"
          ],
          "name": "stdout"
        }
      ]
    },
    {
      "cell_type": "code",
      "metadata": {
        "id": "56rt9kwoBURY",
        "colab_type": "code",
        "colab": {}
      },
      "source": [
        " ! mkdir ~/.kaggle\n",
        " "
      ],
      "execution_count": 0,
      "outputs": []
    },
    {
      "cell_type": "code",
      "metadata": {
        "id": "cxRAOBDxBmhd",
        "colab_type": "code",
        "colab": {}
      },
      "source": [
        "! cp kaggle.json ~/.kaggle/"
      ],
      "execution_count": 0,
      "outputs": []
    },
    {
      "cell_type": "code",
      "metadata": {
        "id": "ZqHt41PNBuOL",
        "colab_type": "code",
        "colab": {}
      },
      "source": [
        "! chmod 600 ~/.kaggle/kaggle.json"
      ],
      "execution_count": 0,
      "outputs": []
    },
    {
      "cell_type": "code",
      "metadata": {
        "id": "Zp5pzMfKB1Ea",
        "colab_type": "code",
        "colab": {
          "base_uri": "https://localhost:8080/",
          "height": 428
        },
        "outputId": "33d414e5-b760-4830-f6e2-ec490739305b"
      },
      "source": [
        "! kaggle datasets list"
      ],
      "execution_count": 8,
      "outputs": [
        {
          "output_type": "stream",
          "text": [
            "Warning: Looks like you're using an outdated API Version, please consider updating (server 1.5.6 / client 1.5.4)\n",
            "ref                                                            title                                                size  lastUpdated          downloadCount  \n",
            "-------------------------------------------------------------  --------------------------------------------------  -----  -------------------  -------------  \n",
            "allen-institute-for-ai/CORD-19-research-challenge              COVID-19 Open Research Dataset Challenge (CORD-19)    1GB  2020-04-11 13:32:24          51915  \n",
            "roche-data-science-coalition/uncover                           UNCOVER COVID-19 Challenge                          123MB  2020-04-08 22:04:30           3624  \n",
            "praveengovi/coronahack-chest-xraydataset                       CoronaHack -Chest X-Ray-Dataset                       1GB  2020-03-20 01:26:40            420  \n",
            "katerpillar/meteonet                                           MeteoNet North-West France                           11GB  2020-04-16 08:35:45             14  \n",
            "andrewmvd/covid19-ct-scans                                     COVID-19 CT scans                                   662MB  2020-03-19 11:07:02            297  \n",
            "shuyangli94/interview-npr-media-dialog-transcripts             INTERVIEW: NPR Media Dialog Transcripts             293MB  2020-04-07 01:59:42             24  \n",
            "divyansh22/flight-delay-prediction                             January Flight Delay Prediction                      23MB  2020-04-14 13:15:41             43  \n",
            "bobbyscience/league-of-legends-diamond-ranked-games-10-min     League of Legends Diamond Ranked Games (10 min)     539KB  2020-04-13 13:53:02             40  \n",
            "ikiulian/global-hospital-beds-capacity-for-covid19             Global Hospital Beds Capacity (for covid-19)        277KB  2020-04-15 15:15:32             51  \n",
            "benroshan/factors-affecting-campus-placement                   Campus Placement                                      5KB  2020-04-11 11:09:02             81  \n",
            "tunguz/covid19-genomes                                         COVID-19 Genomes                                    133KB  2020-04-13 15:18:40             27  \n",
            "imdevskp/india-district-wise-shape-files                       India 2020 District Level Shape files                22MB  2020-04-10 09:03:16             30  \n",
            "lalish99/covid19-mx                                            COVID-19 MX                                         709KB  2020-04-16 01:17:28             20  \n",
            "kimjihoo/coronavirusdataset                                    Data Science for COVID-19 (DS4C)                      3MB  2020-04-14 05:18:00          29083  \n",
            "sudalairajkumar/novel-corona-virus-2019-dataset                Novel Corona Virus 2019 Dataset                     748KB  2020-04-15 03:13:49         146997  \n",
            "fireballbyedimyrnmom/us-counties-covid-19-dataset              US counties COVID 19 dataset                        525KB  2020-04-16 19:53:05           4248  \n",
            "clmentbisaillon/fake-and-real-news-dataset                     Fake and real news dataset                           41MB  2020-03-26 18:51:15           1380  \n",
            "unanimad/dataisbeautiful                                       Reddit - Data is Beautiful                           11MB  2020-04-14 14:11:20           1807  \n",
            "jessemostipak/hotel-booking-demand                             Hotel booking demand                                  1MB  2020-02-13 01:27:20          14852  \n",
            "paultimothymooney/covid19-containment-and-mitigation-measures  COVID-19 containment and mitigation measures        141KB  2020-04-16 20:40:52           1759  \n"
          ],
          "name": "stdout"
        }
      ]
    },
    {
      "cell_type": "code",
      "metadata": {
        "id": "m41tJMy7CCpS",
        "colab_type": "code",
        "colab": {
          "base_uri": "https://localhost:8080/",
          "height": 343
        },
        "outputId": "b95c067f-d14f-48a4-a7b1-9076cd34b8db"
      },
      "source": [
        "!pip uninstall -y kaggle\n",
        "!pip install --upgrade pip\n",
        "!pip install kaggle==1.5.6\n",
        "!kaggle -v"
      ],
      "execution_count": 10,
      "outputs": [
        {
          "output_type": "stream",
          "text": [
            "Found existing installation: kaggle 1.5.6\n",
            "Uninstalling kaggle-1.5.6:\n",
            "  Successfully uninstalled kaggle-1.5.6\n",
            "Requirement already up-to-date: pip in /usr/local/lib/python3.6/dist-packages (20.0.2)\n",
            "Processing /root/.cache/pip/wheels/01/3e/ff/77407ebac3ef71a79b9166a8382aecf88415a0bcbe3c095a01/kaggle-1.5.6-py3-none-any.whl\n",
            "Requirement already satisfied: python-dateutil in /usr/local/lib/python3.6/dist-packages (from kaggle==1.5.6) (2.8.1)\n",
            "Requirement already satisfied: python-slugify in /usr/local/lib/python3.6/dist-packages (from kaggle==1.5.6) (4.0.0)\n",
            "Requirement already satisfied: tqdm in /usr/local/lib/python3.6/dist-packages (from kaggle==1.5.6) (4.38.0)\n",
            "Requirement already satisfied: certifi in /usr/local/lib/python3.6/dist-packages (from kaggle==1.5.6) (2020.4.5.1)\n",
            "Requirement already satisfied: urllib3<1.25,>=1.21.1 in /usr/local/lib/python3.6/dist-packages (from kaggle==1.5.6) (1.24.3)\n",
            "Requirement already satisfied: requests in /usr/local/lib/python3.6/dist-packages (from kaggle==1.5.6) (2.21.0)\n",
            "Requirement already satisfied: six>=1.10 in /usr/local/lib/python3.6/dist-packages (from kaggle==1.5.6) (1.12.0)\n",
            "Requirement already satisfied: text-unidecode>=1.3 in /usr/local/lib/python3.6/dist-packages (from python-slugify->kaggle==1.5.6) (1.3)\n",
            "Requirement already satisfied: idna<2.9,>=2.5 in /usr/local/lib/python3.6/dist-packages (from requests->kaggle==1.5.6) (2.8)\n",
            "Requirement already satisfied: chardet<3.1.0,>=3.0.2 in /usr/local/lib/python3.6/dist-packages (from requests->kaggle==1.5.6) (3.0.4)\n",
            "Installing collected packages: kaggle\n",
            "Successfully installed kaggle-1.5.6\n",
            "Kaggle API 1.5.6\n"
          ],
          "name": "stdout"
        }
      ]
    },
    {
      "cell_type": "code",
      "metadata": {
        "id": "BTc2lSZ6Cg4u",
        "colab_type": "code",
        "colab": {
          "base_uri": "https://localhost:8080/",
          "height": 411
        },
        "outputId": "f163d317-4290-48e7-e933-d3129f70be48"
      },
      "source": [
        "! kaggle datasets list"
      ],
      "execution_count": 11,
      "outputs": [
        {
          "output_type": "stream",
          "text": [
            "ref                                                            title                                                size  lastUpdated          downloadCount  voteCount  usabilityRating  \n",
            "-------------------------------------------------------------  --------------------------------------------------  -----  -------------------  -------------  ---------  ---------------  \n",
            "allen-institute-for-ai/CORD-19-research-challenge              COVID-19 Open Research Dataset Challenge (CORD-19)    1GB  2020-04-11 13:32:24          51915       5518  0.88235295       \n",
            "roche-data-science-coalition/uncover                           UNCOVER COVID-19 Challenge                          123MB  2020-04-08 22:04:30           3624        372  0.8235294        \n",
            "praveengovi/coronahack-chest-xraydataset                       CoronaHack -Chest X-Ray-Dataset                       1GB  2020-03-20 01:26:40            420         23  0.9411765        \n",
            "katerpillar/meteonet                                           MeteoNet North-West France                           11GB  2020-04-16 08:35:45             14          8  0.8235294        \n",
            "andrewmvd/covid19-ct-scans                                     COVID-19 CT scans                                   662MB  2020-03-19 11:07:02            297         34  0.875            \n",
            "shuyangli94/interview-npr-media-dialog-transcripts             INTERVIEW: NPR Media Dialog Transcripts             293MB  2020-04-07 01:59:42             24          6  1.0              \n",
            "divyansh22/flight-delay-prediction                             January Flight Delay Prediction                      23MB  2020-04-14 13:15:41             43          8  0.9411765        \n",
            "bobbyscience/league-of-legends-diamond-ranked-games-10-min     League of Legends Diamond Ranked Games (10 min)     539KB  2020-04-13 13:53:02             40          5  1.0              \n",
            "ikiulian/global-hospital-beds-capacity-for-covid19             Global Hospital Beds Capacity (for covid-19)        277KB  2020-04-15 15:15:32             51          5  1.0              \n",
            "benroshan/factors-affecting-campus-placement                   Campus Placement                                      5KB  2020-04-11 11:09:02             81          4  1.0              \n",
            "tunguz/covid19-genomes                                         COVID-19 Genomes                                    133KB  2020-04-13 15:18:40             27         13  1.0              \n",
            "imdevskp/india-district-wise-shape-files                       India 2020 District Level Shape files                22MB  2020-04-10 09:03:16             30          7  1.0              \n",
            "lalish99/covid19-mx                                            COVID-19 MX                                         709KB  2020-04-16 01:17:28             20          2  1.0              \n",
            "kimjihoo/coronavirusdataset                                    Data Science for COVID-19 (DS4C)                      3MB  2020-04-14 05:18:00          29083        985  1.0              \n",
            "sudalairajkumar/novel-corona-virus-2019-dataset                Novel Corona Virus 2019 Dataset                     748KB  2020-04-15 03:13:49         146997       3865  0.9705882        \n",
            "fireballbyedimyrnmom/us-counties-covid-19-dataset              US counties COVID 19 dataset                        525KB  2020-04-16 19:53:05           4248        155  0.9411765        \n",
            "clmentbisaillon/fake-and-real-news-dataset                     Fake and real news dataset                           41MB  2020-03-26 18:51:15           1380         90  1.0              \n",
            "unanimad/dataisbeautiful                                       Reddit - Data is Beautiful                           11MB  2020-04-14 14:11:20           1807        161  1.0              \n",
            "jessemostipak/hotel-booking-demand                             Hotel booking demand                                  1MB  2020-02-13 01:27:20          14852        586  1.0              \n",
            "paultimothymooney/covid19-containment-and-mitigation-measures  COVID-19 containment and mitigation measures        141KB  2020-04-16 20:40:52           1759        101  0.9411765        \n"
          ],
          "name": "stdout"
        }
      ]
    },
    {
      "cell_type": "code",
      "metadata": {
        "id": "dVW7zg5yC0tx",
        "colab_type": "code",
        "colab": {
          "base_uri": "https://localhost:8080/",
          "height": 51
        },
        "outputId": "103f8b4a-fe26-45b8-a83e-2a2e6303d6bc"
      },
      "source": [
        "!kaggle competitions download -c India 2020 District Level Shape files"
      ],
      "execution_count": 14,
      "outputs": [
        {
          "output_type": "stream",
          "text": [
            "usage: kaggle [-h] [-v] {competitions,c,datasets,d,kernels,k,config} ...\n",
            "kaggle: error: unrecognized arguments: District Level Shape files\n"
          ],
          "name": "stdout"
        }
      ]
    },
    {
      "cell_type": "code",
      "metadata": {
        "id": "1sKTvxBJC4YV",
        "colab_type": "code",
        "colab": {
          "base_uri": "https://localhost:8080/",
          "height": 68
        },
        "outputId": "5134db75-759a-455d-c5f0-4ef69d50eea7"
      },
      "source": [
        "!kaggle competitions download -c plant-pathology-2020-fgvc7"
      ],
      "execution_count": 16,
      "outputs": [
        {
          "output_type": "stream",
          "text": [
            "Downloading plant-pathology-2020-fgvc7.zip to /content\n",
            " 97% 759M/779M [00:06<00:00, 109MB/s] \n",
            "100% 779M/779M [00:06<00:00, 122MB/s]\n"
          ],
          "name": "stdout"
        }
      ]
    }
  ]
}